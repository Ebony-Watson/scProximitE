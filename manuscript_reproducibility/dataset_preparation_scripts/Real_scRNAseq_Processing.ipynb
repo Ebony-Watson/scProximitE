{
 "cells": [
  {
   "cell_type": "code",
   "execution_count": null,
   "id": "69cc1d5d-12d9-4e81-8759-4a676dc3e7e3",
   "metadata": {},
   "outputs": [],
   "source": [
    "import scanpy as sc\n",
    "import numpy as np\n",
    "import pandas as pd\n",
    "import matplotlib.pyplot as plt\n",
    "from scipy import sparse\n",
    "import anndata\n",
    "from collections import Counter\n",
    "np.random.seed(11)\n",
    "import os"
   ]
  },
  {
   "cell_type": "markdown",
   "id": "96ec669b-40e8-42bb-b046-1d9461fdaef7",
   "metadata": {
    "tags": []
   },
   "source": [
    "### Popescu et al. (2019)"
   ]
  },
  {
   "cell_type": "code",
   "execution_count": null,
   "id": "ea74f5cf-6361-40c1-9e0e-52ec53ba900e",
   "metadata": {
    "tags": []
   },
   "outputs": [],
   "source": [
    "data_dir = ''\n",
    "dat = sc.read_h5ad(os.path.join(data_dir, 'fetal_liver_alladata_-Copy2.h5ad'))\n",
    "eryth = dat[dat.obs['cell.labels'].isin(['Early Erythroid', 'Mid Erythroid', 'Late Erythroid', 'MEMP', 'HSC_MPP'])]\n",
    "eryth.write(os.path.join(data_dir, 'Eryth_subset.h5ad'))\n",
    "Counter(eryth.obs['cell.labels'])"
   ]
  },
  {
   "cell_type": "code",
   "execution_count": null,
   "id": "9bbd3ebb-137e-42ae-a043-6339823a34af",
   "metadata": {},
   "outputs": [],
   "source": [
    "Ery_adatas = [eryth[eryth.obs['cell.labels'].isin([x])] for x in eryth.obs['cell.labels'].cat.categories]\n",
    "Ery_target_obs = [1000, 1000, 1000, 1000, 1000]\n",
    "for dat, num in zip(Ery_adatas, Ery_target_obs):\n",
    "         dat = sc.pp.subsample(data=dat,  n_obs=num)\n",
    "ery_abund = Ery_adatas[0].concatenate(*Ery_adatas[1:])"
   ]
  },
  {
   "cell_type": "code",
   "execution_count": null,
   "id": "81aea692-ddb1-4ffd-b9dc-264aa5f07fd3",
   "metadata": {},
   "outputs": [],
   "source": [
    "Ery_adatas = [eryth[eryth.obs['cell.labels'].isin([x])] for x in eryth.obs['cell.labels'].cat.categories]\n",
    "Ery_target_obs = [2200, 100, 17, 3, 1680]\n",
    "for dat, num in zip(Ery_adatas, Ery_target_obs):\n",
    "         dat = sc.pp.subsample(data=dat, n_obs=num)\n",
    "ery_rare = Ery_adatas[0].concatenate(*Ery_adatas[1:])"
   ]
  },
  {
   "cell_type": "code",
   "execution_count": null,
   "id": "5f92706e-f1a5-480f-9596-af0cf0290443",
   "metadata": {},
   "outputs": [],
   "source": [
    "datasets = {\n",
    "    'Eryth_Subset1': ery_abund,\n",
    "    'Eryth_Subset2': ery_rare}   "
   ]
  },
  {
   "cell_type": "code",
   "execution_count": null,
   "id": "9dafbf98-d2f2-43c8-9118-6d8261036e44",
   "metadata": {
    "tags": []
   },
   "outputs": [],
   "source": [
    "for dataset in datasets.keys():\n",
    "    del datasets[dataset].obsm['X_fdg'], datasets[dataset].obsm['X_tsne'], datasets[dataset].obsm['X_umap']\n",
    "    datasets[dataset].obs = datasets[dataset].obs.drop(['AnnatomicalPart','tissue', 'doublets','combined.labels','n_counts','nGene', 'nUMI'], axis = 1)\n",
    "    datasets[dataset].obs = datasets[dataset].obs.rename({'cell.labels': 'labels_truth'}, axis='columns')\n",
    "    datasets[dataset].var_names_make_unique()\n",
    "    datasets[dataset].write(os.path.join(data_dir, dataset + '_Raw.h5ad'))"
   ]
  },
  {
   "cell_type": "markdown",
   "id": "40d326d4-6ea3-4c99-b80b-10841bb57805",
   "metadata": {},
   "source": [
    "### Wegmann et al. (2019)"
   ]
  },
  {
   "cell_type": "code",
   "execution_count": null,
   "id": "3960c46b-55dc-4ee2-8075-2e4cc56770d4",
   "metadata": {},
   "outputs": [],
   "source": [
    "c_sub1 = sc.read_h5ad(os.path.join(data_dir,'Cellsius_Subset1_Raw.h5ad'))\n",
    "\n",
    "c_sub2 = sc.read_h5ad(os.path.join(data_dir, 'Cellsius_Subset2_Raw.h5ad'))"
   ]
  },
  {
   "cell_type": "code",
   "execution_count": null,
   "id": "0cfebfa1-1893-41c9-b796-60df3589fe95",
   "metadata": {},
   "outputs": [],
   "source": [
    "datasets = {\n",
    "    'Cellsius_Subset1': c_sub1,\n",
    "    'Cellsius_Subset2': c_sub2}"
   ]
  },
  {
   "cell_type": "code",
   "execution_count": null,
   "id": "9e2b5697-8917-4bc9-8d78-3c6085cc7fcd",
   "metadata": {},
   "outputs": [],
   "source": [
    "#Change var names to gene symbols for cellsius datasets, rather than ENSB IDs\n",
    "for dataset in datasets.keys():\n",
    "    datasets[dataset].obs = datasets[dataset].obs.drop(['log10_total_counts','total_counts', 'total_features', 'log10_total_features', 'pct_dropout', 'exprs_feature_controls_MT', 'pct_exprs_feature_controls_MT', 'counts_feature_controls_MT', 'pct_counts_feature_controls_MT', 'n_detected_feature_controls_MT', 'n_detected_feature_controls', 'counts_feature_controls', 'pct_counts_feature_controls', 'pct_counts_top_50_features', 'pct_counts_top_100_features', 'pct_counts_top_200_features', 'pct_counts_top_500_features', 'pct_counts_top_50_endogenous_features', 'pct_counts_top_100_endogenous_features', 'pct_counts_top_200_endogenous_features', 'pct_counts_top_500_endogenous_features', 'counts_endogenous_features', 'log10_counts_feature_controls_MT', 'log10_counts_feature_controls', 'log10_counts_endogenous_features'], axis = 1)\n",
    "    datasets[dataset].var = datasets[dataset].var.drop(['mean_exprs', 'exprs_rank', 'n_cells_exprs', 'total_feature_exprs', 'pct_total_exprs', 'pct_dropout', 'total_feature_counts', 'log10_total_feature_counts', 'pct_total_counts', 'is_feature_control_MT', 'is_feature_control'], axis = 1)\n",
    "    datasets[dataset].obs = datasets[dataset].obs.rename({'cell_line': 'labels_truth'}, axis='columns')\n",
    "    datasets[dataset].var_names = datasets[dataset].var['symbol'].values.astype('str')\n",
    "    datasets[dataset].var_names_make_unique()\n",
    "    datasets[dataset].write(os.path.join(data_dir, dataset + '_Raw.h5ad'))"
   ]
  },
  {
   "cell_type": "markdown",
   "id": "ebfb0387-2a5c-4ae4-8e00-548774e73664",
   "metadata": {},
   "source": [
    "# HVG datasets generation"
   ]
  },
  {
   "cell_type": "code",
   "execution_count": null,
   "id": "a4bd00cb-1ead-4143-973f-d8f606816530",
   "metadata": {},
   "outputs": [],
   "source": [
    "c_sub1 = sc.read_h5ad(os.path.join(data_dir,'Cellsius_Subset1_Raw.h5ad'))\n",
    "c_sub2 = sc.read_h5ad(os.path.join(data_dir,'Cellsius_Subset2_Raw.h5ad'))\n",
    "ery_sub1 = sc.read_h5ad(os.path.join(data_dir,'FetalLiver_Subset1_Raw.h5ad'))\n",
    "ery_sub2 = sc.read_h5ad(os.path.join(data_dir,'FetalLiver_Subset2_Raw.h5ad'))"
   ]
  },
  {
   "cell_type": "code",
   "execution_count": null,
   "id": "d3d26b4d-6580-47ee-8de1-e2fdf6184c27",
   "metadata": {},
   "outputs": [],
   "source": [
    "datasets = {\n",
    "    'Discrete_Abundant': c_sub1,\n",
    "    'Discrete_Rare': c_sub2,\n",
    "    'Continuous_Abundant': ery_sub1,\n",
    "    'Continuous_Rare': ery_sub2}    "
   ]
  },
  {
   "cell_type": "code",
   "execution_count": null,
   "id": "5650fe97-85db-4de0-9b1e-0de58009e67b",
   "metadata": {},
   "outputs": [],
   "source": [
    "for dataset in datasets.keys():\n",
    "    sc.pp.highly_variable_genes(datasets[dataset], n_top_genes=500, min_mean=0.0125, max_mean=3, min_disp=0.5)\n",
    "    dat_hvg = datasets[dataset][:, datasets[dataset].var.highly_variable]\n",
    "    del dat_hvg.uns['hvg']\n",
    "    print(dat_hvg)\n",
    "    dat_hvg.write(os.path.join(data_dir, dataset + f'_HVG500.h5ad'))"
   ]
  },
  {
   "cell_type": "code",
   "execution_count": null,
   "id": "3f6fd4f1-6c81-4dfd-b441-6d6ee9bab126",
   "metadata": {},
   "outputs": [],
   "source": [
    "for dataset in datasets.keys():\n",
    "    sc.pp.highly_variable_genes(datasets[dataset], n_top_genes=2000, min_mean=0.0125, max_mean=3, min_disp=0.5)\n",
    "    dat_hvg = datasets[dataset][:, datasets[dataset].var.highly_variable]\n",
    "    del dat_hvg.uns['hvg']\n",
    "    print(dat_hvg)\n",
    "    dat_hvg.write(os.path.join(data_dir, dataset + f'_HVG2000.h5ad'))"
   ]
  }
 ],
 "metadata": {
  "kernelspec": {
   "display_name": "Python 3 (ipykernel)",
   "language": "python",
   "name": "python3"
  },
  "language_info": {
   "codemirror_mode": {
    "name": "ipython",
    "version": 3
   },
   "file_extension": ".py",
   "mimetype": "text/x-python",
   "name": "python",
   "nbconvert_exporter": "python",
   "pygments_lexer": "ipython3",
   "version": "3.8.11"
  }
 },
 "nbformat": 4,
 "nbformat_minor": 5
}
