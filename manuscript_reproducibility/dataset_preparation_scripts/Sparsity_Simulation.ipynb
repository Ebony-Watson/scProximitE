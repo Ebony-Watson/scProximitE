{
 "cells": [
  {
   "cell_type": "code",
   "execution_count": 1,
   "id": "b739d493-b0a0-4bdb-9135-a1bf17979243",
   "metadata": {},
   "outputs": [],
   "source": [
    "import scanpy as sc\n",
    "import numpy as np\n",
    "np.random.seed(15)\n",
    "import os\n",
    "import scipy as sp"
   ]
  },
  {
   "cell_type": "code",
   "execution_count": 3,
   "id": "553b79e8-e2ca-4759-87d8-60dcd1c17811",
   "metadata": {},
   "outputs": [],
   "source": [
    "from scipy.stats import bernoulli\n",
    "def naive_dropout(X, norm_loc=0.1, norm_scale=0.5, plt_orig=False):\n",
    "    N, G = X.shape\n",
    "    norm_loc_log = np.log(norm_loc)\n",
    "    # loc = mean, scale = standard deviation, size=number of integer\n",
    "    dropout_prob_per_gene = np.exp(np.random.normal(loc=norm_loc_log, scale=norm_scale, size=G))\n",
    "    dropped_out = np.zeros((N, G), dtype=np.bool)\n",
    "    dropout_picker = bernoulli(dropout_prob_per_gene)\n",
    "    for n in range(N):\n",
    "        dropped_out[n] = dropout_picker.rvs()\n",
    "\n",
    "    drop_X = np.copy(X)\n",
    "    drop_X[dropped_out] = 0\n",
    "    return drop_X"
   ]
  },
  {
   "cell_type": "markdown",
   "id": "ea07b60e-e66a-4a22-a7aa-ccaa967945f1",
   "metadata": {},
   "source": [
    "# Simulate additional levels of sparsity"
   ]
  },
  {
   "cell_type": "markdown",
   "id": "d95b455a-e2d3-4e39-b745-3ede137e8be6",
   "metadata": {},
   "source": [
    "## 70% Sparsity"
   ]
  },
  {
   "cell_type": "code",
   "execution_count": 4,
   "id": "311cc018-7e3c-4498-90a2-5a89c997ae25",
   "metadata": {},
   "outputs": [],
   "source": [
    "data_dir = 'D:/Dimensionality Reduction Project additional files/Simulated/Raw/'\n",
    "Cont_abund = sc.read_h5ad(f'{data_dir}Continuous_Abundant_Simulation_Raw.h5ad')\n",
    "Disc_abund = sc.read_h5ad(f'{data_dir}Discrete_Abundant_Simulation_Raw.h5ad')\n",
    "Cont_rare = sc.read_h5ad(f'{data_dir}Continuous_OnlyRare_Simulation_Raw.h5ad')\n",
    "Disc_rare = sc.read_h5ad(f'{data_dir}Discrete_OnlyRare_Simulation_Raw.h5ad')\n",
    "Cont_ultrarare = sc.read_h5ad(f'{data_dir}Continuous_UltraRare_Simulation_Raw.h5ad')\n",
    "Disc_ultrarare = sc.read_h5ad(f'{data_dir}Discrete_UltraRare_Simulation_Raw.h5ad')"
   ]
  },
  {
   "cell_type": "code",
   "execution_count": 5,
   "id": "abf19dc1-f49c-4242-9f5f-68a8755114dd",
   "metadata": {},
   "outputs": [],
   "source": [
    "datasets = {\n",
    "    'Discrete Abundant': Disc_abund,\n",
    "    'Discrete Moderately-Rare': Disc_rare,\n",
    "    'Discrete Ultra-Rare': Disc_ultrarare,\n",
    "    'Continuous Abundant': Cont_abund,\n",
    "    'Continuous Moderately-Rare': Cont_rare,\n",
    "    'Continuous Ultra-Rare': Cont_ultrarare\n",
    "}"
   ]
  },
  {
   "cell_type": "markdown",
   "id": "36649b6d-5d33-493a-bbcd-ae46813a247a",
   "metadata": {},
   "source": [
    "### Check Sparsity of raw datasets"
   ]
  },
  {
   "cell_type": "code",
   "execution_count": 6,
   "id": "a73917c8-e9d1-4f5f-9be0-67f938726188",
   "metadata": {},
   "outputs": [],
   "source": [
    "for dataset in datasets.keys():\n",
    "    if sp.sparse.isspmatrix_csr(datasets[dataset].X) == False: #Convert all to CSR if not already\n",
    "        datasets[dataset].X = sp.sparse.csr_matrix(datasets[dataset].X)"
   ]
  },
  {
   "cell_type": "code",
   "execution_count": 7,
   "id": "ecb6a55d-75d2-4f78-a2e6-2ac2f04c291e",
   "metadata": {},
   "outputs": [
    {
     "name": "stdout",
     "output_type": "stream",
     "text": [
      "percent of zero values is  49.79 % for Discrete Abundant\n",
      "Number of genes universally expressed in all cells is  0\n",
      "percent of zero values is  49.39 % for Discrete Moderately-Rare\n",
      "Number of genes universally expressed in all cells is  1\n",
      "percent of zero values is  48.85 % for Discrete Ultra-Rare\n",
      "Number of genes universally expressed in all cells is  1\n",
      "percent of zero values is  48.31 % for Continuous Abundant\n",
      "Number of genes universally expressed in all cells is  0\n",
      "percent of zero values is  46.5 % for Continuous Moderately-Rare\n",
      "Number of genes universally expressed in all cells is  1\n",
      "percent of zero values is  46.08 % for Continuous Ultra-Rare\n",
      "Number of genes universally expressed in all cells is  1\n"
     ]
    }
   ],
   "source": [
    "for dataset in datasets.keys():\n",
    "    n_cells_detected = datasets[dataset].X.getnnz(axis=0)\n",
    "    pct_non_zero = n_cells_detected.sum()/(datasets[dataset].X.shape[0]*datasets[dataset].X.shape[1])*100\n",
    "    print(\"percent of zero values is \", round(100 - pct_non_zero,2), \"% for\", dataset)\n",
    "    print(\"Number of genes universally expressed in all cells is \",sum(n_cells_detected == datasets[dataset].X.shape[0]))"
   ]
  },
  {
   "cell_type": "code",
   "execution_count": 8,
   "id": "e8012231-bca8-45f3-a808-1d5b1f2f1f1d",
   "metadata": {},
   "outputs": [
    {
     "name": "stderr",
     "output_type": "stream",
     "text": [
      "C:\\Users\\uqewats6\\AppData\\Local\\Temp/ipykernel_15436/2674768251.py:7: DeprecationWarning: `np.bool` is a deprecated alias for the builtin `bool`. To silence this warning, use `bool` by itself. Doing this will not modify any behavior and is safe. If you specifically wanted the numpy scalar type, use `np.bool_` here.\n",
      "Deprecated in NumPy 1.20; for more details and guidance: https://numpy.org/devdocs/release/1.20.0-notes.html#deprecations\n",
      "  dropped_out = np.zeros((N, G), dtype=np.bool)\n"
     ]
    },
    {
     "name": "stdout",
     "output_type": "stream",
     "text": [
      "0.1 0.42\n",
      "percent of zero values is  71.01 % for Discrete Abundant\n",
      "Number of genes universally expressed in all cells is  0\n",
      "0.1 0.42\n",
      "percent of zero values is  70.75 % for Discrete Moderately-Rare\n",
      "Number of genes universally expressed in all cells is  0\n",
      "0.1 0.42\n",
      "percent of zero values is  70.4 % for Discrete Ultra-Rare\n",
      "Number of genes universally expressed in all cells is  0\n",
      "0.1 0.42\n",
      "percent of zero values is  70.14 % for Continuous Abundant\n",
      "Number of genes universally expressed in all cells is  0\n",
      "0.1 0.42\n",
      "percent of zero values is  69.13 % for Continuous Moderately-Rare\n",
      "Number of genes universally expressed in all cells is  0\n",
      "0.1 0.42\n",
      "percent of zero values is  68.85 % for Continuous Ultra-Rare\n",
      "Number of genes universally expressed in all cells is  0\n"
     ]
    }
   ],
   "source": [
    "for dataset in datasets.keys():\n",
    "    norm_locs = [0.42]\n",
    "    norm_scales = [0.1]\n",
    "    for i, norm_scale in enumerate(norm_scales):\n",
    "        drop_X = naive_dropout(datasets[dataset].X.todense(), norm_loc=norm_locs[i], norm_scale=norm_scale, plt_orig=False)\n",
    "        drop_X = sp.sparse.csr_matrix(drop_X)\n",
    "        n_cells_detected = drop_X.getnnz(axis=0)\n",
    "        pct_non_zero = n_cells_detected.sum() / (drop_X.shape[0] * drop_X.shape[1]) * 100\n",
    "        print(norm_scale, norm_locs[i])\n",
    "        print(\"percent of zero values is \", round(100 - pct_non_zero, 2), \"% for\", dataset)\n",
    "        print(\"Number of genes universally expressed in all cells is \",\n",
    "            sum(n_cells_detected == drop_X.shape[0]))\n",
    "    datasets[dataset].X = drop_X\n",
    "    datasets[dataset].write(os.path.join(data_dir, dataset + '_5kG_10C_Simulation_70%_Raw.h5ad'))"
   ]
  },
  {
   "cell_type": "markdown",
   "id": "39deee43-f30b-4b9a-9525-80a11bc157f7",
   "metadata": {},
   "source": [
    "### Data Processing for 70%"
   ]
  },
  {
   "cell_type": "code",
   "execution_count": 11,
   "id": "c572c85b-16d3-4a18-96fd-536243865d5d",
   "metadata": {},
   "outputs": [],
   "source": [
    "for dataset in datasets.keys():\n",
    "    if sp.sparse.isspmatrix_csr(datasets[dataset].X) == False: #Convert all to CSR if not already\n",
    "        datasets[dataset].X = sp.sparse.csr_matrix(datasets[dataset].X)\n",
    "    sc.pp.calculate_qc_metrics(datasets[dataset], percent_top=None, log1p=False, inplace=True)\n",
    "    sc.pp.filter_cells(datasets[dataset], min_genes=200, inplace=True) #Filter cells expression >200 genes\n",
    "    sc.pp.filter_genes(datasets[dataset], min_cells=(len(datasets[dataset].obs)*0.1), inplace=True) #Filter genes expressed in <10% of cells\n",
    "    sc.pp.normalize_total(datasets[dataset], target_sum=1e4, key_added='norm_factor')\n",
    "    sc.pp.log1p(datasets[dataset])"
   ]
  },
  {
   "cell_type": "markdown",
   "id": "d75c5fb8-0587-4b2b-90bc-aab84e1e256b",
   "metadata": {},
   "source": [
    "### Check sparsity after processing"
   ]
  },
  {
   "cell_type": "code",
   "execution_count": 12,
   "id": "507a2d71-5d75-4ec7-81ee-ef43d582df4c",
   "metadata": {},
   "outputs": [
    {
     "name": "stdout",
     "output_type": "stream",
     "text": [
      "percent of zero values is  67.73 % for Discrete Abundant\n",
      "Number of genes universally expressed in all cells is  0\n",
      "percent of zero values is  67.0 % for Discrete Moderately-Rare\n",
      "Number of genes universally expressed in all cells is  0\n",
      "percent of zero values is  66.51 % for Discrete Ultra-Rare\n",
      "Number of genes universally expressed in all cells is  0\n",
      "percent of zero values is  66.69 % for Continuous Abundant\n",
      "Number of genes universally expressed in all cells is  0\n",
      "percent of zero values is  65.92 % for Continuous Moderately-Rare\n",
      "Number of genes universally expressed in all cells is  0\n",
      "percent of zero values is  65.74 % for Continuous Ultra-Rare\n",
      "Number of genes universally expressed in all cells is  0\n"
     ]
    }
   ],
   "source": [
    "for dataset in datasets.keys():\n",
    "    n_cells_detected = datasets[dataset].X.getnnz(axis=0)\n",
    "    pct_non_zero = n_cells_detected.sum()/(datasets[dataset].X.shape[0]*datasets[dataset].X.shape[1])*100\n",
    "    print(\"percent of zero values is \", round(100 - pct_non_zero,2), \"% for\", dataset)\n",
    "    print(\"Number of genes universally expressed in all cells is \",sum(n_cells_detected == datasets[dataset].X.shape[0]))"
   ]
  },
  {
   "cell_type": "markdown",
   "id": "5f3645a4-58b1-4fae-86e8-16d071eb9411",
   "metadata": {},
   "source": [
    "### Save processed dataset"
   ]
  },
  {
   "cell_type": "code",
   "execution_count": null,
   "id": "6c6a9831-feb2-4c94-af8a-e148b047b6c7",
   "metadata": {},
   "outputs": [],
   "source": [
    "for dataset in datasets.keys():\n",
    "    datasets[dataset].write(os.path.join(data_dir, dataset + '_Simulation_70%_Processed.h5ad'))"
   ]
  },
  {
   "cell_type": "markdown",
   "id": "e5b9e655-ab07-486e-8f01-107ccd3d92cd",
   "metadata": {},
   "source": [
    "## 90% Sparsity"
   ]
  },
  {
   "cell_type": "code",
   "execution_count": 40,
   "id": "583b662e-44c3-434f-ba35-4429a1cb328f",
   "metadata": {},
   "outputs": [],
   "source": [
    "data_dir = 'D:/Dimensionality Reduction Project additional files/Simulated/Raw/'\n",
    "Cont_abund = sc.read_h5ad(f'{data_dir}Continuous_Abundant_Simulation_Raw.h5ad')\n",
    "Disc_abund = sc.read_h5ad(f'{data_dir}Discrete_Abundant_Simulation_Raw.h5ad')\n",
    "Cont_rare = sc.read_h5ad(f'{data_dir}Continuous_OnlyRare_Simulation_Raw.h5ad')\n",
    "Disc_rare = sc.read_h5ad(f'{data_dir}Discrete_OnlyRare_Simulation_Raw.h5ad')\n",
    "Cont_ultrarare = sc.read_h5ad(f'{data_dir}Continuous_UltraRare_Simulation_Raw.h5ad')\n",
    "Disc_ultrarare = sc.read_h5ad(f'{data_dir}Discrete_UltraRare_Simulation_Raw.h5ad')"
   ]
  },
  {
   "cell_type": "code",
   "execution_count": 41,
   "id": "50df49f5-c650-4550-aa97-69e2b74f27e2",
   "metadata": {},
   "outputs": [],
   "source": [
    "datasets = {\n",
    "    'Discrete Abundant': Disc_abund,\n",
    "    'Discrete Moderately-Rare': Disc_rare,\n",
    "    'Discrete Ultra-Rare': Disc_ultrarare,\n",
    "    'Continuous Abundant': Cont_abund,\n",
    "    'Continuous Moderately-Rare': Cont_rare,\n",
    "    'Continuous Ultra-Rare': Cont_ultrarare\n",
    "}"
   ]
  },
  {
   "cell_type": "markdown",
   "id": "8e874152-4dc4-4930-b63a-08bf7bbc1dd3",
   "metadata": {},
   "source": [
    "### Check Sparsity of raw datasets"
   ]
  },
  {
   "cell_type": "code",
   "execution_count": 42,
   "id": "84844c2a-d0d0-4831-b21d-fec1ea79555d",
   "metadata": {},
   "outputs": [],
   "source": [
    "for dataset in datasets.keys():\n",
    "    if sparse.isspmatrix_csr(datasets[dataset].X) == False: #Convert all to CSR if not already\n",
    "        datasets[dataset].X = sparse.csr_matrix(datasets[dataset].X)"
   ]
  },
  {
   "cell_type": "code",
   "execution_count": 43,
   "id": "17282046-1dad-46e5-81d1-22e0721cb3c3",
   "metadata": {},
   "outputs": [
    {
     "name": "stdout",
     "output_type": "stream",
     "text": [
      "percent of zero values is  49.79 % for Discrete Abundant\n",
      "Number of genes universally expressed in all cells is  0\n",
      "percent of zero values is  49.39 % for Discrete Moderately-Rare\n",
      "Number of genes universally expressed in all cells is  1\n",
      "percent of zero values is  48.85 % for Discrete Ultra-Rare\n",
      "Number of genes universally expressed in all cells is  1\n",
      "percent of zero values is  48.31 % for Continuous Abundant\n",
      "Number of genes universally expressed in all cells is  0\n",
      "percent of zero values is  46.5 % for Continuous Moderately-Rare\n",
      "Number of genes universally expressed in all cells is  1\n",
      "percent of zero values is  46.08 % for Continuous Ultra-Rare\n",
      "Number of genes universally expressed in all cells is  1\n"
     ]
    }
   ],
   "source": [
    "for dataset in datasets.keys():\n",
    "    n_cells_detected = datasets[dataset].X.getnnz(axis=0)\n",
    "    pct_non_zero = n_cells_detected.sum()/(datasets[dataset].X.shape[0]*datasets[dataset].X.shape[1])*100\n",
    "    print(\"percent of zero values is \", round(100 - pct_non_zero,2), \"% for\", dataset)\n",
    "    print(\"Number of genes universally expressed in all cells is \",sum(n_cells_detected == datasets[dataset].X.shape[0]))"
   ]
  },
  {
   "cell_type": "code",
   "execution_count": 44,
   "id": "975e5ee6-a329-441c-9e9e-c6c75e6a4aba",
   "metadata": {},
   "outputs": [
    {
     "name": "stderr",
     "output_type": "stream",
     "text": [
      "C:\\Users\\uqewats6\\AppData\\Local\\Temp/ipykernel_14652/2674768251.py:7: DeprecationWarning: `np.bool` is a deprecated alias for the builtin `bool`. To silence this warning, use `bool` by itself. Doing this will not modify any behavior and is safe. If you specifically wanted the numpy scalar type, use `np.bool_` here.\n",
      "Deprecated in NumPy 1.20; for more details and guidance: https://numpy.org/devdocs/release/1.20.0-notes.html#deprecations\n",
      "  dropped_out = np.zeros((N, G), dtype=np.bool)\n"
     ]
    },
    {
     "name": "stdout",
     "output_type": "stream",
     "text": [
      "0.01 0.8\n",
      "percent of zero values is  89.97 % for Discrete Abundant\n",
      "Number of genes universally expressed in all cells is  0\n",
      "0.01 0.8\n",
      "percent of zero values is  89.85 % for Discrete Moderately-Rare\n",
      "Number of genes universally expressed in all cells is  0\n",
      "0.01 0.8\n",
      "percent of zero values is  89.77 % for Discrete Ultra-Rare\n",
      "Number of genes universally expressed in all cells is  0\n",
      "0.01 0.8\n",
      "percent of zero values is  89.66 % for Continuous Abundant\n",
      "Number of genes universally expressed in all cells is  0\n",
      "0.01 0.8\n",
      "percent of zero values is  89.31 % for Continuous Moderately-Rare\n",
      "Number of genes universally expressed in all cells is  0\n",
      "0.01 0.8\n",
      "percent of zero values is  89.22 % for Continuous Ultra-Rare\n",
      "Number of genes universally expressed in all cells is  0\n"
     ]
    }
   ],
   "source": [
    "for dataset in datasets.keys():\n",
    "    norm_locs = [0.8]\n",
    "    norm_scales = [0.01]\n",
    "    for i, norm_scale in enumerate(norm_scales):\n",
    "        drop_X = naive_dropout(datasets[dataset].X.todense(), norm_loc=norm_locs[i], norm_scale=norm_scale, plt_orig=False)\n",
    "        drop_X = sp.sparse.csr_matrix(drop_X)\n",
    "        n_cells_detected = drop_X.getnnz(axis=0)\n",
    "        pct_non_zero = n_cells_detected.sum() / (drop_X.shape[0] * drop_X.shape[1]) * 100\n",
    "        print(norm_scale, norm_locs[i])\n",
    "        print(\"percent of zero values is \", round(100 - pct_non_zero, 2), \"% for\", dataset)\n",
    "        print(\"Number of genes universally expressed in all cells is \",\n",
    "            sum(n_cells_detected == drop_X.shape[0]))\n",
    "    datasets[dataset].X = drop_X\n",
    "    datasets[dataset].write(os.path.join(data_dir, dataset + '_5kG_10C_Simulation_90%_Raw.h5ad'))"
   ]
  },
  {
   "cell_type": "markdown",
   "id": "67b9eb86-dbc6-4c9b-bd98-91216456bf10",
   "metadata": {},
   "source": [
    "### Data Processing for 90%"
   ]
  },
  {
   "cell_type": "code",
   "execution_count": 34,
   "id": "71c42383-5e98-4274-819b-b3c5d97a933e",
   "metadata": {},
   "outputs": [],
   "source": [
    "for dataset in datasets.keys():\n",
    "    if sparse.isspmatrix_csr(datasets[dataset].X) == False: #Convert all to CSR if not already\n",
    "        datasets[dataset].X = sparse.csr_matrix(datasets[dataset].X)\n",
    "    sc.pp.calculate_qc_metrics(datasets[dataset], percent_top=None, log1p=False, inplace=True)\n",
    "    sc.pp.filter_cells(datasets[dataset], min_genes=200, inplace=True) #Filter cells expression >200 genes\n",
    "    sc.pp.filter_genes(datasets[dataset], min_cells=(len(datasets[dataset].obs)*0.1), inplace=True) #Filter genes expressed in <10% of cells\n",
    "    sc.pp.normalize_total(datasets[dataset], target_sum=1e4, key_added='norm_factor')\n",
    "    sc.pp.log1p(datasets[dataset])"
   ]
  },
  {
   "cell_type": "markdown",
   "id": "c892a65e-2051-4966-b3ec-b6fcba469e78",
   "metadata": {},
   "source": [
    "### Check sparsity after processing"
   ]
  },
  {
   "cell_type": "code",
   "execution_count": 36,
   "id": "6fcc66d2-f91f-40a7-83cb-cb434429dfbf",
   "metadata": {},
   "outputs": [
    {
     "name": "stdout",
     "output_type": "stream",
     "text": [
      "percent of zero values is  67.67 % for Discrete Abundant\n",
      "Number of genes universally expressed in all cells is  0\n",
      "percent of zero values is  67.02 % for Discrete Moderately-Rare\n",
      "Number of genes universally expressed in all cells is  0\n",
      "percent of zero values is  66.54 % for Discrete Ultra-Rare\n",
      "Number of genes universally expressed in all cells is  0\n",
      "percent of zero values is  66.6 % for Continuous Abundant\n",
      "Number of genes universally expressed in all cells is  0\n",
      "percent of zero values is  65.98 % for Continuous Moderately-Rare\n",
      "Number of genes universally expressed in all cells is  0\n",
      "percent of zero values is  65.68 % for Continuous Ultra-Rare\n",
      "Number of genes universally expressed in all cells is  0\n"
     ]
    }
   ],
   "source": [
    "for dataset in datasets.keys():\n",
    "    n_cells_detected = datasets[dataset].X.getnnz(axis=0)\n",
    "    pct_non_zero = n_cells_detected.sum()/(datasets[dataset].X.shape[0]*datasets[dataset].X.shape[1])*100\n",
    "    print(\"percent of zero values is \", round(100 - pct_non_zero,2), \"% for\", dataset)\n",
    "    print(\"Number of genes universally expressed in all cells is \",sum(n_cells_detected == datasets[dataset].X.shape[0]))"
   ]
  },
  {
   "cell_type": "markdown",
   "id": "3139bbb9-3d33-4653-bac8-1fd795179032",
   "metadata": {},
   "source": [
    "### Save processed dataset"
   ]
  },
  {
   "cell_type": "code",
   "execution_count": null,
   "id": "e8ad87d2-f63e-4ce3-92da-9caa19f6ac29",
   "metadata": {},
   "outputs": [],
   "source": [
    "for dataset in datasets.keys():\n",
    "    datasets[dataset].write(os.path.join(data_dir, dataset + '_Simulation_90%_Processed.h5ad'))"
   ]
  }
 ],
 "metadata": {
  "kernelspec": {
   "display_name": "Python 3 (ipykernel)",
   "language": "python",
   "name": "python3"
  },
  "language_info": {
   "codemirror_mode": {
    "name": "ipython",
    "version": 3
   },
   "file_extension": ".py",
   "mimetype": "text/x-python",
   "name": "python",
   "nbconvert_exporter": "python",
   "pygments_lexer": "ipython3",
   "version": "3.8.11"
  }
 },
 "nbformat": 4,
 "nbformat_minor": 5
}
