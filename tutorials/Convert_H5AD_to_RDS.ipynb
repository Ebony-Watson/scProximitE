{
 "cells": [
  {
   "cell_type": "code",
   "execution_count": 1,
   "id": "7703f938-83ec-49e8-b04d-5695963b0e6f",
   "metadata": {
    "collapsed": true,
    "jupyter": {
     "outputs_hidden": true
    },
    "tags": []
   },
   "outputs": [
    {
     "name": "stderr",
     "output_type": "stream",
     "text": [
      "'getOption(\"repos\")' replaces Bioconductor standard repositories, see\n",
      "'?repositories' for details\n",
      "\n",
      "replacement repositories:\n",
      "    CRAN: https://cran.r-project.org\n",
      "\n",
      "\n",
      "Bioconductor version 3.13 (BiocManager 1.30.16), R 4.1.3 (2022-03-10)\n",
      "\n",
      "Installing package(s) 'Seurat'\n",
      "\n"
     ]
    },
    {
     "name": "stdout",
     "output_type": "stream",
     "text": [
      "package 'Seurat' successfully unpacked and MD5 sums checked\n",
      "\n",
      "The downloaded binary packages are in\n",
      "\tC:\\Users\\uqewats6\\AppData\\Local\\Temp\\RtmpsdHfRe\\downloaded_packages\n"
     ]
    },
    {
     "name": "stderr",
     "output_type": "stream",
     "text": [
      "Old packages: 'arules', 'backports', 'BH', 'brew', 'brio', 'broom', 'carData',\n",
      "  'caret', 'circlize', 'cli', 'clipr', 'cluster', 'colorspace', 'commonmark',\n",
      "  'conquer', 'cpp11', 'crayon', 'credentials', 'DBI', 'desc', 'digest',\n",
      "  'doParallel', 'dplyr', 'DT', 'evaluate', 'fansi', 'fitdistrplus', 'foreach',\n",
      "  'fs', 'future', 'generics', 'gert', 'ggpmisc', 'ggpp', 'glue', 'gower',\n",
      "  'htmlTable', 'httpuv', 'igraph', 'irlba', 'iterators', 'jsonlite', 'knitr',\n",
      "  'lme4', 'lmtest', 'locfit', 'magrittr', 'maptools', 'memoise', 'nloptr',\n",
      "  'openssl', 'openxlsx', 'parallelly', 'philentropy', 'pillar', 'pkgbuild',\n",
      "  'pkgload', 'plyr', 'processx', 'progressr', 'quantreg', 'rbibutils',\n",
      "  'RcppArmadillo', 'RCurl', 'Rdpack', 'readr', 'readxl', 'recipes', 'remotes',\n",
      "  'rjson', 'rlang', 'RSQLite', 'sass', 'scattermore', 'sessioninfo', 'shinyjs',\n",
      "  'spatstat.core', 'spatstat.data', 'spatstat.geom', 'spatstat.sparse',\n",
      "  'spatstat.utils', 'stringi', 'testthat', 'tidyr', 'tidyselect', 'tzdb',\n",
      "  'usethis', 'uwot', 'vroom', 'waldo', 'xfun', 'XML', 'xml2', 'yaml'\n",
      "\n",
      "'getOption(\"repos\")' replaces Bioconductor standard repositories, see\n",
      "'?repositories' for details\n",
      "\n",
      "replacement repositories:\n",
      "    CRAN: https://cran.r-project.org\n",
      "\n",
      "\n",
      "Bioconductor version 3.13 (BiocManager 1.30.16), R 4.1.3 (2022-03-10)\n",
      "\n",
      "Installing package(s) 'reticulate'\n",
      "\n",
      "also installing the dependency 'RcppTOML'\n",
      "\n",
      "\n"
     ]
    },
    {
     "name": "stdout",
     "output_type": "stream",
     "text": [
      "package 'RcppTOML' successfully unpacked and MD5 sums checked\n",
      "package 'reticulate' successfully unpacked and MD5 sums checked\n",
      "\n",
      "The downloaded binary packages are in\n",
      "\tC:\\Users\\uqewats6\\AppData\\Local\\Temp\\RtmpsdHfRe\\downloaded_packages\n"
     ]
    },
    {
     "name": "stderr",
     "output_type": "stream",
     "text": [
      "Old packages: 'arules', 'backports', 'BH', 'brew', 'brio', 'broom', 'carData',\n",
      "  'caret', 'circlize', 'cli', 'clipr', 'cluster', 'colorspace', 'commonmark',\n",
      "  'conquer', 'cpp11', 'crayon', 'credentials', 'DBI', 'desc', 'digest',\n",
      "  'doParallel', 'dplyr', 'DT', 'evaluate', 'fansi', 'fitdistrplus', 'foreach',\n",
      "  'fs', 'future', 'generics', 'gert', 'ggpmisc', 'ggpp', 'glue', 'gower',\n",
      "  'htmlTable', 'httpuv', 'igraph', 'irlba', 'iterators', 'jsonlite', 'knitr',\n",
      "  'lme4', 'lmtest', 'locfit', 'magrittr', 'maptools', 'memoise', 'nloptr',\n",
      "  'openssl', 'openxlsx', 'parallelly', 'philentropy', 'pillar', 'pkgbuild',\n",
      "  'pkgload', 'plyr', 'processx', 'progressr', 'quantreg', 'rbibutils',\n",
      "  'RcppArmadillo', 'RCurl', 'Rdpack', 'readr', 'readxl', 'recipes', 'remotes',\n",
      "  'rjson', 'rlang', 'RSQLite', 'sass', 'scattermore', 'sessioninfo', 'shinyjs',\n",
      "  'spatstat.core', 'spatstat.data', 'spatstat.geom', 'spatstat.sparse',\n",
      "  'spatstat.utils', 'stringi', 'testthat', 'tidyr', 'tidyselect', 'tzdb',\n",
      "  'usethis', 'uwot', 'vroom', 'waldo', 'xfun', 'XML', 'xml2', 'yaml'\n",
      "\n",
      "'getOption(\"repos\")' replaces Bioconductor standard repositories, see\n",
      "'?repositories' for details\n",
      "\n",
      "replacement repositories:\n",
      "    CRAN: https://cran.r-project.org\n",
      "\n",
      "\n",
      "Bioconductor version 3.13 (BiocManager 1.30.16), R 4.1.3 (2022-03-10)\n",
      "\n",
      "Installing package(s) 'devtools'\n",
      "\n"
     ]
    },
    {
     "name": "stdout",
     "output_type": "stream",
     "text": [
      "package 'devtools' successfully unpacked and MD5 sums checked\n",
      "\n",
      "The downloaded binary packages are in\n",
      "\tC:\\Users\\uqewats6\\AppData\\Local\\Temp\\RtmpsdHfRe\\downloaded_packages\n"
     ]
    },
    {
     "name": "stderr",
     "output_type": "stream",
     "text": [
      "Old packages: 'arules', 'backports', 'BH', 'brew', 'brio', 'broom', 'carData',\n",
      "  'caret', 'circlize', 'cli', 'clipr', 'cluster', 'colorspace', 'commonmark',\n",
      "  'conquer', 'cpp11', 'crayon', 'credentials', 'DBI', 'desc', 'digest',\n",
      "  'doParallel', 'dplyr', 'DT', 'evaluate', 'fansi', 'fitdistrplus', 'foreach',\n",
      "  'fs', 'future', 'generics', 'gert', 'ggpmisc', 'ggpp', 'glue', 'gower',\n",
      "  'htmlTable', 'httpuv', 'igraph', 'irlba', 'iterators', 'jsonlite', 'knitr',\n",
      "  'lme4', 'lmtest', 'locfit', 'magrittr', 'maptools', 'memoise', 'nloptr',\n",
      "  'openssl', 'openxlsx', 'parallelly', 'philentropy', 'pillar', 'pkgbuild',\n",
      "  'pkgload', 'plyr', 'processx', 'progressr', 'quantreg', 'rbibutils',\n",
      "  'RcppArmadillo', 'RCurl', 'Rdpack', 'readr', 'readxl', 'recipes', 'remotes',\n",
      "  'rjson', 'rlang', 'RSQLite', 'sass', 'scattermore', 'sessioninfo', 'shinyjs',\n",
      "  'spatstat.core', 'spatstat.data', 'spatstat.geom', 'spatstat.sparse',\n",
      "  'spatstat.utils', 'stringi', 'testthat', 'tidyr', 'tidyselect', 'tzdb',\n",
      "  'usethis', 'uwot', 'vroom', 'waldo', 'xfun', 'XML', 'xml2', 'yaml'\n",
      "\n",
      "'getOption(\"repos\")' replaces Bioconductor standard repositories, see\n",
      "'?repositories' for details\n",
      "\n",
      "replacement repositories:\n",
      "    CRAN: https://cran.r-project.org\n",
      "\n",
      "\n",
      "Bioconductor version 3.13 (BiocManager 1.30.16), R 4.1.3 (2022-03-10)\n",
      "\n",
      "Installing package(s) 'LoomExperiment'\n",
      "\n"
     ]
    },
    {
     "name": "stdout",
     "output_type": "stream",
     "text": [
      "package 'LoomExperiment' successfully unpacked and MD5 sums checked\n",
      "\n",
      "The downloaded binary packages are in\n",
      "\tC:\\Users\\uqewats6\\AppData\\Local\\Temp\\RtmpsdHfRe\\downloaded_packages\n"
     ]
    },
    {
     "name": "stderr",
     "output_type": "stream",
     "text": [
      "Old packages: 'arules', 'backports', 'BH', 'brew', 'brio', 'broom', 'carData',\n",
      "  'caret', 'circlize', 'cli', 'clipr', 'cluster', 'colorspace', 'commonmark',\n",
      "  'conquer', 'cpp11', 'crayon', 'credentials', 'DBI', 'desc', 'digest',\n",
      "  'doParallel', 'dplyr', 'DT', 'evaluate', 'fansi', 'fitdistrplus', 'foreach',\n",
      "  'fs', 'future', 'generics', 'gert', 'ggpmisc', 'ggpp', 'glue', 'gower',\n",
      "  'htmlTable', 'httpuv', 'igraph', 'irlba', 'iterators', 'jsonlite', 'knitr',\n",
      "  'lme4', 'lmtest', 'locfit', 'magrittr', 'maptools', 'memoise', 'nloptr',\n",
      "  'openssl', 'openxlsx', 'parallelly', 'philentropy', 'pillar', 'pkgbuild',\n",
      "  'pkgload', 'plyr', 'processx', 'progressr', 'quantreg', 'rbibutils',\n",
      "  'RcppArmadillo', 'RCurl', 'Rdpack', 'readr', 'readxl', 'recipes', 'remotes',\n",
      "  'rjson', 'rlang', 'RSQLite', 'sass', 'scattermore', 'sessioninfo', 'shinyjs',\n",
      "  'spatstat.core', 'spatstat.data', 'spatstat.geom', 'spatstat.sparse',\n",
      "  'spatstat.utils', 'stringi', 'testthat', 'tidyr', 'tidyselect', 'tzdb',\n",
      "  'usethis', 'uwot', 'vroom', 'waldo', 'xfun', 'XML', 'xml2', 'yaml'\n",
      "\n",
      "'getOption(\"repos\")' replaces Bioconductor standard repositories, see\n",
      "'?repositories' for details\n",
      "\n",
      "replacement repositories:\n",
      "    CRAN: https://cran.r-project.org\n",
      "\n",
      "\n",
      "Bioconductor version 3.13 (BiocManager 1.30.16), R 4.1.3 (2022-03-10)\n",
      "\n",
      "Installing package(s) 'SingleCellExperiment'\n",
      "\n"
     ]
    },
    {
     "name": "stdout",
     "output_type": "stream",
     "text": [
      "package 'SingleCellExperiment' successfully unpacked and MD5 sums checked\n",
      "\n",
      "The downloaded binary packages are in\n",
      "\tC:\\Users\\uqewats6\\AppData\\Local\\Temp\\RtmpsdHfRe\\downloaded_packages\n"
     ]
    },
    {
     "name": "stderr",
     "output_type": "stream",
     "text": [
      "Old packages: 'arules', 'backports', 'BH', 'brew', 'brio', 'broom', 'carData',\n",
      "  'caret', 'circlize', 'cli', 'clipr', 'cluster', 'colorspace', 'commonmark',\n",
      "  'conquer', 'cpp11', 'crayon', 'credentials', 'DBI', 'desc', 'digest',\n",
      "  'doParallel', 'dplyr', 'DT', 'evaluate', 'fansi', 'fitdistrplus', 'foreach',\n",
      "  'fs', 'future', 'generics', 'gert', 'ggpmisc', 'ggpp', 'glue', 'gower',\n",
      "  'htmlTable', 'httpuv', 'igraph', 'irlba', 'iterators', 'jsonlite', 'knitr',\n",
      "  'lme4', 'lmtest', 'locfit', 'magrittr', 'maptools', 'memoise', 'nloptr',\n",
      "  'openssl', 'openxlsx', 'parallelly', 'philentropy', 'pillar', 'pkgbuild',\n",
      "  'pkgload', 'plyr', 'processx', 'progressr', 'quantreg', 'rbibutils',\n",
      "  'RcppArmadillo', 'RCurl', 'Rdpack', 'readr', 'readxl', 'recipes', 'remotes',\n",
      "  'rjson', 'rlang', 'RSQLite', 'sass', 'scattermore', 'sessioninfo', 'shinyjs',\n",
      "  'spatstat.core', 'spatstat.data', 'spatstat.geom', 'spatstat.sparse',\n",
      "  'spatstat.utils', 'stringi', 'testthat', 'tidyr', 'tidyselect', 'tzdb',\n",
      "  'usethis', 'uwot', 'vroom', 'waldo', 'xfun', 'XML', 'xml2', 'yaml'\n",
      "\n"
     ]
    }
   ],
   "source": [
    "if (!requireNamespace(\"BiocManager\", quietly = TRUE))\n",
    "    install.packages(\"BiocManager\")\n",
    "\n",
    "BiocManager::install(\"reticulate\",force=TRUE)\n",
    "BiocManager::install(\"devtools\",force=TRUE)\n",
    "BiocManager::install(\"LoomExperiment\",force=TRUE)\n",
    "BiocManager::install(\"SingleCellExperiment\",force=TRUE)\n",
    "BiocManager::install(\"Seurat\",force=TRUE, dependencies=TRUE)"
   ]
  },
  {
   "cell_type": "code",
   "execution_count": 1,
   "id": "84ace721-be68-43fc-a83d-b0c32ef4b61c",
   "metadata": {
    "tags": []
   },
   "outputs": [
    {
     "name": "stderr",
     "output_type": "stream",
     "text": [
      "Loading required package: usethis\n",
      "\n",
      "Downloading GitHub repo cellgeni/sceasy@HEAD\n",
      "\n"
     ]
    },
    {
     "name": "stdout",
     "output_type": "stream",
     "text": [
      "rprojroot (2.0.2 -> 2.0.3) [CRAN]\n",
      "jsonlite  (1.7.2 -> 1.8.0) [CRAN]\n"
     ]
    },
    {
     "name": "stderr",
     "output_type": "stream",
     "text": [
      "Installing 2 packages: rprojroot, jsonlite\n",
      "\n"
     ]
    },
    {
     "name": "stdout",
     "output_type": "stream",
     "text": [
      "\n",
      "  There is a binary version available but the source version is later:\n",
      "          binary source needs_compilation\n",
      "rprojroot  2.0.2  2.0.3             FALSE\n",
      "\n",
      "package 'jsonlite' successfully unpacked and MD5 sums checked\n",
      "\n",
      "The downloaded binary packages are in\n",
      "\tC:\\Users\\uqewats6\\AppData\\Local\\Temp\\RtmpoPSYcM\\downloaded_packages\n"
     ]
    },
    {
     "name": "stderr",
     "output_type": "stream",
     "text": [
      "installing the source package 'rprojroot'\n",
      "\n",
      "\n"
     ]
    },
    {
     "name": "stdout",
     "output_type": "stream",
     "text": [
      "\u001b[32mv\u001b[39m  \u001b[90mchecking for file 'C:\\Users\\uqewats6\\AppData\\Local\\Temp\\RtmpoPSYcM\\remotes283c787d1fa8\\cellgeni-sceasy-d564af5/DESCRIPTION'\u001b[39m\u001b[36m\u001b[39m\n",
      "\u001b[90m-\u001b[39m\u001b[90m  \u001b[39m\u001b[90mpreparing 'sceasy':\u001b[39m\u001b[36m\u001b[39m\n",
      "\u001b[32mv\u001b[39m  \u001b[90mchecking DESCRIPTION meta-information\u001b[39m\u001b[36m\u001b[39m\n",
      "\u001b[90m-\u001b[39m\u001b[90m  \u001b[39m\u001b[90mchecking for LF line-endings in source and make files and shell scripts\u001b[39m\u001b[36m\u001b[39m\n",
      "\u001b[90m-\u001b[39m\u001b[90m  \u001b[39m\u001b[90mchecking for empty or unneeded directories\u001b[39m\u001b[36m\u001b[39m\n",
      "\u001b[90m-\u001b[39m\u001b[90m  \u001b[39m\u001b[90mbuilding 'sceasy_0.0.6.tar.gz'\u001b[39m\u001b[36m\u001b[39m\n",
      "   \n",
      "\r"
     ]
    }
   ],
   "source": [
    "library(devtools)\n",
    "devtools::install_github(\"cellgeni/sceasy\")"
   ]
  },
  {
   "cell_type": "code",
   "execution_count": 2,
   "id": "979ca537-703f-4850-b834-258628d15a61",
   "metadata": {},
   "outputs": [
    {
     "name": "stderr",
     "output_type": "stream",
     "text": [
      "Registered S3 method overwritten by 'spatstat.geom':\n",
      "  method     from\n",
      "  print.boxx cli \n",
      "\n",
      "Attaching SeuratObject\n",
      "\n"
     ]
    }
   ],
   "source": [
    "library(Seurat)\n",
    "library(reticulate)\n",
    "use_condaenv('distance')\n",
    "library(sceasy)"
   ]
  },
  {
   "cell_type": "code",
   "execution_count": 3,
   "id": "e6169537-f989-48ed-b1fb-5154e011fad0",
   "metadata": {
    "tags": []
   },
   "outputs": [],
   "source": [
    "#Processed data\n",
    "data_dir = '../manuscript_reproducibility/data/'\n",
    "datasets = c(\"Discrete_Rare_Processed\",\"Discrete_Abundant_Processed\",\n",
    "             \"Continuous_Rare_Processed\",\"Continuous_Abundant_Processed\")"
   ]
  },
  {
   "cell_type": "code",
   "execution_count": 4,
   "id": "6f0c4c3a-f419-43b6-b88b-2fab00d2e896",
   "metadata": {
    "tags": []
   },
   "outputs": [
    {
     "name": "stderr",
     "output_type": "stream",
     "text": [
      "X -> counts\n",
      "\n",
      "X -> counts\n",
      "\n",
      "X -> counts\n",
      "\n",
      "X -> counts\n",
      "\n"
     ]
    }
   ],
   "source": [
    "for (data in datasets){\n",
    "  name = paste(data_dir,data,sep=\"\")\n",
    "  sceasy::convertFormat(paste(name,\".h5ad\", sep=\"\"), from=\"anndata\", to=\"seurat\", outFile=paste(name,\".rds\", sep=\"\"))\n",
    "}"
   ]
  }
 ],
 "metadata": {
  "kernelspec": {
   "display_name": "R",
   "language": "R",
   "name": "ir"
  },
  "language_info": {
   "codemirror_mode": "r",
   "file_extension": ".r",
   "mimetype": "text/x-r-source",
   "name": "R",
   "pygments_lexer": "r",
   "version": "4.1.3"
  }
 },
 "nbformat": 4,
 "nbformat_minor": 5
}
