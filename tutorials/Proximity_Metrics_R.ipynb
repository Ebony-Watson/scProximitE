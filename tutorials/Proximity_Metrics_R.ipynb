{
 "cells": [
  {
   "cell_type": "markdown",
   "id": "84472a4f",
   "metadata": {
    "collapsed": true,
    "jupyter": {
     "outputs_hidden": true
    },
    "tags": []
   },
   "source": [
    "# Promimity metrics in R\n",
    "\n",
    "This is an optional notebook that enables users to run proximity metrics that are only in R.\n",
    "\n"
   ]
  },
  {
   "cell_type": "code",
   "execution_count": 2,
   "id": "4e14f02d-a4b2-4aa8-ba5a-11e9b0ab35ab",
   "metadata": {},
   "outputs": [
    {
     "name": "stderr",
     "output_type": "stream",
     "text": [
      "Attaching SeuratObject\n",
      "\n",
      "Loading required package: dynamicTreeCut\n",
      "\n",
      "Loading required package: fastcluster\n",
      "\n",
      "\n",
      "Attaching package: 'fastcluster'\n",
      "\n",
      "\n",
      "The following object is masked from 'package:stats':\n",
      "\n",
      "    hclust\n",
      "\n",
      "\n",
      "\n",
      "\n",
      "\n",
      "Attaching package: 'WGCNA'\n",
      "\n",
      "\n",
      "The following object is masked from 'package:stats':\n",
      "\n",
      "    cor\n",
      "\n",
      "\n",
      "\n",
      "Attaching package: 'dismay'\n",
      "\n",
      "\n",
      "The following object is masked from 'package:stats':\n",
      "\n",
      "    binomial\n",
      "\n",
      "\n"
     ]
    }
   ],
   "source": [
    "\n",
    "if (!requireNamespace(\"BiocManager\", quietly = TRUE))\n",
    "    install.packages(\"BiocManager\")\n",
    "\n",
    "BiocManager::install(\"WGCNA\")\n",
    "BiocManager::install(\"reticulate\",force=TRUE)\n",
    "BiocManager::install(\"devtools\",force=TRUE)\n",
    "BiocManager::install(\"LoomExperiment\",force=TRUE)\n",
    "BiocManager::install(\"SingleCellExperiment\",force=TRUE)\n",
    "BiocManager::install(\"Seurat\",force=TRUE, dependencies=TRUE)\n",
    "\n",
    "library(devtools)\n",
    "devtools::install_github(\"skinnider/dismay\")\n",
    "library(devtools)\n",
    "devtools::install_github(\"cellgeni/sceasy\",force = TRUE)\n",
    "\n",
    "library('Seurat')\n",
    "library('WGCNA')\n",
    "library('dismay')\n"
   ]
  },
  {
   "cell_type": "code",
   "execution_count": null,
   "id": "331c6bfc",
   "metadata": {},
   "outputs": [],
   "source": [
    "library(Seurat)\n",
    "library(reticulate)\n",
    "# Note here is where we suggest you use the conda env with scproximite installed\n",
    "use_condaenv('scproximite')\n",
    "library(sceasy)"
   ]
  },
  {
   "cell_type": "markdown",
   "id": "3df4e789-48ec-48fb-a91b-396c41196b43",
   "metadata": {},
   "source": [
    "Options for proximity metrics in R are:\n",
    "\n",
    "- phi_s\n",
    "- rho_p\n",
    "- weighted_rank\n",
    "- zi-kendall\n",
    "\n",
    "From the implementation provided by the dismay package (https://github.com/skinnider/dismay). As dismay package computes metrics as simialrities, they are converted to dissimilarities when merged with python metrics. "
   ]
  },
  {
   "cell_type": "code",
   "execution_count": 4,
   "id": "1b35d190-c99e-4274-8825-f9c34e9767a9",
   "metadata": {},
   "outputs": [],
   "source": [
    "data_dir = '../data/R_datasets/'\n",
    "\n",
    "datasets = c(\"Discrete_Rare_Processed\",\"Discrete_Abundant_Processed\",\n",
    "             \"Continuous_Rare_Processed\",\"Continuous_Abundant_Processed\")\n",
    "\n",
    "metrics = c('kendall') # 'phi_s', 'rho_p', 'weighted_rank','zi_kendall'\n",
    "\n",
    "# Convert the datsets to rds format\n",
    "for (data in datasets){\n",
    "  name = paste(data_dir,data,sep=\"\")\n",
    "  sceasy::convertFormat(paste(name,\".h5ad\", sep=\"\"), from=\"anndata\", to=\"seurat\", outFile=paste(name,\".rds\", sep=\"\"))\n",
    "}\n"
   ]
  },
  {
   "cell_type": "markdown",
   "id": "f5e0ef9f-bd65-4c82-b4c0-96ced99c8ec5",
   "metadata": {},
   "source": [
    "Compute a distance matrix for each metric listed on each dataset provided, and outputs them to the data directory as .csv files for integration into the anndata object in python."
   ]
  },
  {
   "cell_type": "code",
   "execution_count": 5,
   "id": "180085ad-6b00-44c8-a97b-f6eae8b62283",
   "metadata": {
    "tags": []
   },
   "outputs": [],
   "source": [
    "for (data in datasets){\n",
    "  dat <- readRDS(paste(data_dir,data,\".rds\",sep =\"\"))\n",
    "  x <- as.matrix(dat@assays$RNA@data)\n",
    "  for (m in metrics){\n",
    "    out = dismay(x, m)\n",
    "    nm = paste(data,m,'.csv', sep=\"_\")\n",
    "    write.csv(out, file=paste(data_dir, nm, sep=\"\"))\n",
    "  }\n",
    "}"
   ]
  }
 ],
 "metadata": {
  "kernelspec": {
   "display_name": "R",
   "language": "R",
   "name": "ir"
  },
  "language_info": {
   "codemirror_mode": "r",
   "file_extension": ".r",
   "mimetype": "text/x-r-source",
   "name": "R",
   "pygments_lexer": "r",
   "version": "4.1.3"
  }
 },
 "nbformat": 4,
 "nbformat_minor": 5
}
