{
 "cells": [
  {
   "cell_type": "code",
   "execution_count": 14,
   "id": "4a23c00b-cc99-417b-8512-b815ce6617fa",
   "metadata": {
    "collapsed": true,
    "jupyter": {
     "outputs_hidden": true
    },
    "tags": []
   },
   "outputs": [
    {
     "name": "stderr",
     "output_type": "stream",
     "text": [
      "Downloading GitHub repo skinnider/dismay@HEAD\n",
      "\n"
     ]
    },
    {
     "name": "stdout",
     "output_type": "stream",
     "text": [
      "iterators   (1.0.13 -> 1.0.14) [CRAN]\n",
      "foreach     (1.5.1  -> 1.5.2 ) [CRAN]\n",
      "crayon      (1.4.2  -> 1.5.1 ) [CRAN]\n",
      "cli         (3.1.0  -> 3.2.0 ) [CRAN]\n",
      "colorspace  (2.0-2  -> 2.0-3 ) [CRAN]\n",
      "pillar      (1.6.4  -> 1.7.0 ) [CRAN]\n",
      "fansi       (0.5.0  -> 1.0.3 ) [CRAN]\n",
      "stringi     (1.7.5  -> 1.7.6 ) [CRAN]\n",
      "xfun        (0.28   -> 0.30  ) [CRAN]\n",
      "evaluate    (0.14   -> 0.15  ) [CRAN]\n",
      "yaml        (2.2.1  -> 2.3.5 ) [CRAN]\n",
      "jsonlite    (1.7.2  -> 1.8.0 ) [CRAN]\n",
      "backports   (1.3.0  -> 1.4.1 ) [CRAN]\n",
      "magrittr    (2.0.1  -> 2.0.2 ) [CRAN]\n",
      "knitr       (1.36   -> 1.38  ) [CRAN]\n",
      "rlang       (0.4.12 -> 1.0.2 ) [CRAN]\n",
      "glue        (1.5.0  -> 1.6.2 ) [CRAN]\n",
      "digest      (0.6.28 -> 0.6.29) [CRAN]\n",
      "htmlTable   (2.3.0  -> 2.4.0 ) [CRAN]\n",
      "rbibutils   (2.2.4  -> 2.2.7 ) [CRAN]\n",
      "doParallel  (1.0.16 -> 1.0.17) [CRAN]\n",
      "plyr        (1.8.6  -> 1.8.7 ) [CRAN]\n",
      "igraph      (1.2.8  -> 1.2.11) [CRAN]\n",
      "poorman     (NA     -> 0.2.5 ) [CRAN]\n",
      "generics    (0.1.1  -> 0.1.2 ) [CRAN]\n",
      "Rdpack      (2.1.2  -> 2.3   ) [CRAN]\n",
      "philentropy (0.5.0  -> 0.6.0 ) [CRAN]\n",
      "arules      (1.7-1  -> 1.7-3 ) [CRAN]\n"
     ]
    },
    {
     "name": "stderr",
     "output_type": "stream",
     "text": [
      "Skipping 4 packages not available: AnnotationDbi, GO.db, preprocessCore, impute\n",
      "\n",
      "Installing 28 packages: iterators, foreach, crayon, cli, colorspace, pillar, fansi, stringi, xfun, evaluate, yaml, jsonlite, backports, magrittr, knitr, rlang, glue, digest, htmlTable, rbibutils, doParallel, plyr, igraph, poorman, generics, Rdpack, philentropy, arules\n",
      "\n"
     ]
    },
    {
     "name": "stdout",
     "output_type": "stream",
     "text": [
      "package 'iterators' successfully unpacked and MD5 sums checked\n",
      "package 'foreach' successfully unpacked and MD5 sums checked\n",
      "package 'crayon' successfully unpacked and MD5 sums checked\n",
      "package 'cli' successfully unpacked and MD5 sums checked\n",
      "package 'colorspace' successfully unpacked and MD5 sums checked\n",
      "package 'pillar' successfully unpacked and MD5 sums checked\n",
      "package 'fansi' successfully unpacked and MD5 sums checked\n",
      "package 'stringi' successfully unpacked and MD5 sums checked\n",
      "package 'xfun' successfully unpacked and MD5 sums checked\n",
      "package 'evaluate' successfully unpacked and MD5 sums checked\n",
      "package 'yaml' successfully unpacked and MD5 sums checked\n",
      "package 'jsonlite' successfully unpacked and MD5 sums checked\n",
      "package 'backports' successfully unpacked and MD5 sums checked\n",
      "package 'magrittr' successfully unpacked and MD5 sums checked\n",
      "package 'knitr' successfully unpacked and MD5 sums checked\n",
      "package 'rlang' successfully unpacked and MD5 sums checked\n",
      "package 'glue' successfully unpacked and MD5 sums checked\n",
      "package 'digest' successfully unpacked and MD5 sums checked\n",
      "package 'htmlTable' successfully unpacked and MD5 sums checked\n",
      "package 'rbibutils' successfully unpacked and MD5 sums checked\n",
      "package 'doParallel' successfully unpacked and MD5 sums checked\n",
      "package 'plyr' successfully unpacked and MD5 sums checked\n",
      "package 'igraph' successfully unpacked and MD5 sums checked\n",
      "package 'poorman' successfully unpacked and MD5 sums checked\n",
      "package 'generics' successfully unpacked and MD5 sums checked\n",
      "package 'Rdpack' successfully unpacked and MD5 sums checked\n",
      "package 'philentropy' successfully unpacked and MD5 sums checked\n",
      "package 'arules' successfully unpacked and MD5 sums checked\n",
      "\n",
      "The downloaded binary packages are in\n",
      "\tC:\\Users\\uqewats6\\AppData\\Local\\Temp\\RtmpEDrxXW\\downloaded_packages\n",
      "\u001b[32mv\u001b[39m  \u001b[90mchecking for file 'C:\\Users\\uqewats6\\AppData\\Local\\Temp\\RtmpEDrxXW\\remotes594032ce1649\\skinnider-dismay-4a0ad33/DESCRIPTION'\u001b[39m\u001b[36m\u001b[39m\n",
      "\u001b[90m-\u001b[39m\u001b[90m  \u001b[39m\u001b[90mpreparing 'dismay':\u001b[39m\u001b[36m\u001b[39m\n",
      "\u001b[32mv\u001b[39m  \u001b[90mchecking DESCRIPTION meta-information\u001b[39m\u001b[36m\u001b[39m\n",
      "\u001b[90m-\u001b[39m\u001b[90m  \u001b[39m\u001b[90minstalling the package to process help pages\u001b[39m\u001b[36m\u001b[39m\n",
      "   Loading required namespace: dismay\n",
      "\u001b[90m-\u001b[39m\u001b[90m  \u001b[39m\u001b[90msaving partial Rd database\u001b[39m\u001b[36m\u001b[39m\n",
      "\u001b[90m-\u001b[39m\u001b[90m  \u001b[39m\u001b[90mchecking for LF line-endings in source and make files and shell scripts\u001b[39m\u001b[36m\u001b[39m\n",
      "\u001b[90m-\u001b[39m\u001b[90m  \u001b[39m\u001b[90mchecking for empty or unneeded directories\u001b[39m\u001b[36m\u001b[39m\n",
      "   Omitted 'LazyData' from DESCRIPTION\n",
      "\u001b[90m-\u001b[39m\u001b[90m  \u001b[39m\u001b[90mbuilding 'dismay_0.0.1.tar.gz'\u001b[39m\u001b[36m\u001b[39m\n",
      "   \n",
      "\r"
     ]
    }
   ],
   "source": [
    "library(devtools)\n",
    "devtools::install_github(\"skinnider/dismay\", lib=\"C:/Users/uqewats6/Miniconda3/envs/r_prox/lib/R/library\", force=TRUE)\n",
    "BiocManager::install(\"WGCNA\",force = TRUE, lib=\"C:/Users/uqewats6/Miniconda3/envs/r_prox/lib/R/library\", dependencies=TRUE) "
   ]
  },
  {
   "cell_type": "code",
   "execution_count": 2,
   "id": "4e14f02d-a4b2-4aa8-ba5a-11e9b0ab35ab",
   "metadata": {},
   "outputs": [
    {
     "name": "stderr",
     "output_type": "stream",
     "text": [
      "Attaching SeuratObject\n",
      "\n",
      "Loading required package: dynamicTreeCut\n",
      "\n",
      "Loading required package: fastcluster\n",
      "\n",
      "\n",
      "Attaching package: 'fastcluster'\n",
      "\n",
      "\n",
      "The following object is masked from 'package:stats':\n",
      "\n",
      "    hclust\n",
      "\n",
      "\n",
      "\n",
      "\n",
      "\n",
      "Attaching package: 'WGCNA'\n",
      "\n",
      "\n",
      "The following object is masked from 'package:stats':\n",
      "\n",
      "    cor\n",
      "\n",
      "\n",
      "\n",
      "Attaching package: 'dismay'\n",
      "\n",
      "\n",
      "The following object is masked from 'package:stats':\n",
      "\n",
      "    binomial\n",
      "\n",
      "\n"
     ]
    }
   ],
   "source": [
    "library('Seurat')\n",
    "library('WGCNA')\n",
    "library('dismay')"
   ]
  },
  {
   "cell_type": "markdown",
   "id": "3df4e789-48ec-48fb-a91b-396c41196b43",
   "metadata": {},
   "source": [
    "Options for proximity metrics in R are:\n",
    "\n",
    "- phi_s\n",
    "- rho_p\n",
    "- weighted_rank\n",
    "- zi-kendall\n",
    "\n",
    "From the implementation provided by the dismay package (https://github.com/skinnider/dismay). As dismay package computes metrics as simialrities, they are converted to dissimilarities when merged with python metrics. "
   ]
  },
  {
   "cell_type": "code",
   "execution_count": 4,
   "id": "1b35d190-c99e-4274-8825-f9c34e9767a9",
   "metadata": {},
   "outputs": [],
   "source": [
    "data_dir = 'C:/Users/uqewats6/PycharmProjects/DimensionalityReduction_Aim_1/Data/'\n",
    "\n",
    "datasets = c(\"Discrete_Rare_Processed\",\"Discrete_Abundant_Processed\",\n",
    "             \"Continuous_Rare_Processed\",\"Continuous_Abundant_Processed\")\n",
    "\n",
    "metrics = c('kendall') # 'phi_s', 'rho_p', 'weighted_rank','zi_kendall'\n"
   ]
  },
  {
   "cell_type": "markdown",
   "id": "f5e0ef9f-bd65-4c82-b4c0-96ced99c8ec5",
   "metadata": {},
   "source": [
    "Compute a distance matrix for each metric listed on each dataset provided, and outputs them to the data directory as .csv files for integration into the anndata object in python."
   ]
  },
  {
   "cell_type": "code",
   "execution_count": 5,
   "id": "180085ad-6b00-44c8-a97b-f6eae8b62283",
   "metadata": {
    "tags": []
   },
   "outputs": [],
   "source": [
    "for (data in datasets){\n",
    "  dat <- readRDS(paste(data_dir,data,\".rds\",sep =\"\"))\n",
    "  x <- as.matrix(dat@assays$RNA@data)\n",
    "  for (m in metrics){\n",
    "    out = dismay(x, m)\n",
    "    nm = paste(data,m,'.csv', sep=\"_\")\n",
    "    write.csv(out, file=paste(data_dir, nm, sep=\"\"))\n",
    "  }\n",
    "}"
   ]
  }
 ],
 "metadata": {
  "kernelspec": {
   "display_name": "R",
   "language": "R",
   "name": "ir"
  },
  "language_info": {
   "codemirror_mode": "r",
   "file_extension": ".r",
   "mimetype": "text/x-r-source",
   "name": "R",
   "pygments_lexer": "r",
   "version": "4.1.3"
  }
 },
 "nbformat": 4,
 "nbformat_minor": 5
}
